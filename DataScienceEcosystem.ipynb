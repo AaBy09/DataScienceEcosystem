{
 "cells": [
  {
   "cell_type": "markdown",
   "id": "e07c5a72-48b5-4ff8-a676-8acd70cd91b0",
   "metadata": {},
   "source": [
    "# Data Science Tools and Ecosystem"
   ]
  },
  {
   "cell_type": "markdown",
   "id": "5570d2f3-a9b9-46f4-92cc-df8d6fcceb02",
   "metadata": {},
   "source": [
    "In this notebook, Data Science Tools and Ecosystem are summarized."
   ]
  },
  {
   "cell_type": "markdown",
   "id": "cd0ecf7e-8db0-4c2e-8e77-93e6cbfef092",
   "metadata": {},
   "source": [
    "Some of the popular languages that Data Scientists use are:\n",
    "1. Python\n",
    "2. R\n",
    "3. SQL"
   ]
  },
  {
   "cell_type": "markdown",
   "id": "ad3591f3-8d5f-4f94-acf2-8363c32f332f",
   "metadata": {},
   "source": [
    "Some of the commonly used libraries used by Data Scientists include:\n",
    "1. Pandas\n",
    "2. NumPy\n",
    "3. Matplotlib"
   ]
  },
  {
   "cell_type": "markdown",
   "id": "bdc5417d-8c73-412a-8b12-ac33ced4a386",
   "metadata": {},
   "source": [
    "| Data Science Tools   |\n",
    "|----------------------|\n",
    "| Jupyter Notebook      |\n",
    "| RStudio              |\n",
    "| Apache Spark         |"
   ]
  },
  {
   "cell_type": "markdown",
   "id": "20b24c3c-83b4-4512-ba2c-c993ae408db8",
   "metadata": {},
   "source": [
    "### Below are a few examples of evaluating arithmetic expressions in Python."
   ]
  },
  {
   "cell_type": "code",
   "execution_count": 2,
   "id": "0d4c3d35-c651-4073-9d35-c33379aaf7cd",
   "metadata": {},
   "outputs": [
    {
     "data": {
      "text/plain": [
       "17"
      ]
     },
     "execution_count": 2,
     "metadata": {},
     "output_type": "execute_result"
    }
   ],
   "source": [
    "# This is a simple arithmetic expression to multiply then add integers.\n",
    "result = (3 * 4) + 5\n",
    "result"
   ]
  },
  {
   "cell_type": "code",
   "execution_count": 3,
   "id": "61c07d22-120f-4961-b5ad-7c3d10356101",
   "metadata": {},
   "outputs": [
    {
     "data": {
      "text/plain": [
       "3.3333333333333335"
      ]
     },
     "execution_count": 3,
     "metadata": {},
     "output_type": "execute_result"
    }
   ],
   "source": [
    "# This will convert 200 minutes to hours by dividing by 60.\n",
    "hours = 200 / 60\n",
    "hours"
   ]
  },
  {
   "cell_type": "markdown",
   "id": "d4659255-1f88-4d32-b781-bb48f5e5194b",
   "metadata": {},
   "source": [
    "**Objectives:**\n",
    "- List popular languages for Data Science.\n",
    "- List commonly used libraries.\n",
    "- Create a table of Data Science tools.\n",
    "- Demonstrate arithmetic operations in Python.\n",
    "- Convert minutes to hours."
   ]
  },
  {
   "cell_type": "markdown",
   "id": "9f39466d-7738-45a5-99fc-463e20b08e27",
   "metadata": {},
   "source": [
    "## Author\n",
    "Ankan Biswas"
   ]
  }
 ],
 "metadata": {
  "kernelspec": {
   "display_name": "Python 3 (ipykernel)",
   "language": "python",
   "name": "python3"
  },
  "language_info": {
   "codemirror_mode": {
    "name": "ipython",
    "version": 3
   },
   "file_extension": ".py",
   "mimetype": "text/x-python",
   "name": "python",
   "nbconvert_exporter": "python",
   "pygments_lexer": "ipython3",
   "version": "3.12.4"
  }
 },
 "nbformat": 4,
 "nbformat_minor": 5
}
